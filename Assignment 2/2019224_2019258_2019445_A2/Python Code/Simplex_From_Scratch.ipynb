{
  "nbformat": 4,
  "nbformat_minor": 0,
  "metadata": {
    "colab": {
      "name": "Final_Simplex_From_Scratch.ipynb",
      "provenance": [],
      "toc_visible": true,
      "collapsed_sections": []
    },
    "kernelspec": {
      "name": "python3",
      "display_name": "Python 3"
    },
    "language_info": {
      "name": "python"
    }
  },
  "cells": [
    {
      "cell_type": "markdown",
      "source": [
        "# Importing Modules"
      ],
      "metadata": {
        "id": "_sYRTKrtl_me"
      }
    },
    {
      "cell_type": "code",
      "execution_count": null,
      "metadata": {
        "id": "JnsB_Ijkj6Ub"
      },
      "outputs": [],
      "source": [
        "import numpy as np\n",
        "import math"
      ]
    },
    {
      "cell_type": "markdown",
      "source": [
        "#Minimization Simplex Algorithm In Python"
      ],
      "metadata": {
        "id": "YKCTnTMmAISt"
      }
    },
    {
      "cell_type": "code",
      "source": [
        "def simplex_matrix(A,b,c):\n",
        "  \"\"\"\n",
        "  Generates the table for performing simplex in tabular form\n",
        "  \"\"\"\n",
        "  matrix = []\n",
        "  for i in range(len(A)):\n",
        "    matrix.append(A[i]+[b[i]])\n",
        "\n",
        "  matrix.append(c+[0])\n",
        "  return np.array(matrix,dtype=float)"
      ],
      "metadata": {
        "id": "f5ZoJWMqrB_V"
      },
      "execution_count": null,
      "outputs": []
    },
    {
      "cell_type": "code",
      "source": [
        "def is_not_optimal(matrix):\n",
        "  \"\"\"\n",
        "  Checks if further optimization is possible\n",
        "  \n",
        "  If any of the reduced cost vector entries is less than 0\n",
        "  it returns True, else it returns False\n",
        "  \"\"\"\n",
        "  cost = matrix[-1][:-1]\n",
        "  return np.any(cost<0)"
      ],
      "metadata": {
        "id": "YchhOoSVzBpy"
      },
      "execution_count": null,
      "outputs": []
    },
    {
      "cell_type": "code",
      "source": [
        "def entering_variable(matrix):\n",
        "  \"\"\"\n",
        "  Returns the index of the minimum cost vector, \n",
        "  the entering variable column\n",
        "  \"\"\"\n",
        "  cost = matrix[-1][:-1]\n",
        "  return np.argmin(cost)"
      ],
      "metadata": {
        "id": "ROEDg44JB3pp"
      },
      "execution_count": null,
      "outputs": []
    },
    {
      "cell_type": "code",
      "source": [
        "def leaving_variable(enter,matrix):\n",
        "  \"\"\"\n",
        "  returns the row with minimum ratio of bj/aij,\n",
        "  the leaving variable row\n",
        "  \"\"\"\n",
        "  minRatio = math.inf\n",
        "  leave = 0\n",
        "  for i in range(len(matrix)-1):\n",
        "    aij= matrix[i][enter]\n",
        "    bj = matrix[i][-1]\n",
        "    if aij>0:\n",
        "      ratio = bj/aij\n",
        "      if ratio<minRatio:\n",
        "        minRatio = ratio\n",
        "        leave = i\n",
        "  return leave"
      ],
      "metadata": {
        "id": "CRVWcvKsEsou"
      },
      "execution_count": null,
      "outputs": []
    },
    {
      "cell_type": "code",
      "source": [
        "def perform_row_operations(leave,enter,matrix):\n",
        "  \"\"\"\n",
        "  performs elementary row transformations \n",
        "  \"\"\"\n",
        "  div = matrix[leave][enter]\n",
        "  for i in range(len(matrix[leave])):\n",
        "    matrix[leave][i]/=div\n",
        "  \n",
        "  for i in range(len(matrix)):\n",
        "    if i!=leave:\n",
        "      num = matrix[i][enter]\n",
        "      matrix[i] = matrix[i] - num*matrix[leave]\n",
        "  return matrix"
      ],
      "metadata": {
        "id": "D3hqFtIWPW6t"
      },
      "execution_count": null,
      "outputs": []
    },
    {
      "cell_type": "code",
      "source": [
        "def check(col):\n",
        "  \"\"\"\n",
        "  Checks if the columns has n-1 zeros and 1 one,\n",
        "  Returns this boolean value and the index of 1\n",
        "  \"\"\"\n",
        "  zero = 0\n",
        "  one = 0\n",
        "  oneIndex = -1\n",
        "  for i in range(len(col)):\n",
        "    if col[i]==0:\n",
        "      zero+=1\n",
        "    elif col[i]==1:\n",
        "      one+=1\n",
        "      oneIndex = i\n",
        "  return zero==len(col)-1 and one==1,oneIndex"
      ],
      "metadata": {
        "id": "u8pTHdmqiJ1N"
      },
      "execution_count": null,
      "outputs": []
    },
    {
      "cell_type": "code",
      "source": [
        "def get_optimal_solution(matrix):\n",
        "  \"\"\"\n",
        "  Generates the solution from the simplex table\n",
        "  \"\"\"\n",
        "  cols = matrix.T\n",
        "  ans = np.zeros(len(cols)-1)\n",
        "  for i in range(len(cols)-1):\n",
        "    basic,oneIndex = check(cols[i])\n",
        "    if(basic):\n",
        "      ans[i] = cols[-1][oneIndex]\n",
        "  return ans"
      ],
      "metadata": {
        "id": "WSybrDkbfck8"
      },
      "execution_count": null,
      "outputs": []
    },
    {
      "cell_type": "code",
      "source": [
        "def simplex(A,b,c,no_of_variables,d=[],max=False,print_iterations=False):\n",
        "  \"\"\"\n",
        "  Simplex Method in tabular form\n",
        "  \"\"\"\n",
        "  table = simplex_matrix(A,b,c)\n",
        "  iteration = 1\n",
        "  while True:\n",
        "    if print_iterations:\n",
        "      print(\"Iteration\",iteration)\n",
        "      print(table,\"\\n\")\n",
        "    if is_not_optimal(table):\n",
        "      enter = entering_variable(table)\n",
        "      leave = leaving_variable(enter,table)\n",
        "      m = perform_row_operations(leave,enter,table)\n",
        "    else:\n",
        "      break\n",
        "    iteration+=1\n",
        "\n",
        "  sol = get_optimal_solution(table)\n",
        "  if len(d)>0:\n",
        "    sol = d\n",
        "  print(\"The optimal solution is\",sol[:no_of_variables])\n",
        "\n",
        "  optimal_value = 0\n",
        "  for i in range(len(sol)):\n",
        "    optimal_value+=c[i]*sol[i]\n",
        "\n",
        "  if max:\n",
        "    optimal_value*=-1\n",
        "  print(\"The optimal value is\",optimal_value)"
      ],
      "metadata": {
        "id": "thwxvw0JlWX5"
      },
      "execution_count": null,
      "outputs": []
    },
    {
      "cell_type": "markdown",
      "source": [
        "# Example"
      ],
      "metadata": {
        "id": "q9KpZ0LYp0Z_"
      }
    },
    {
      "cell_type": "code",
      "source": [
        "c = [-1,-2,-1,0,0,0]\n",
        "A = [\n",
        "     [2,1,-1,1,0,0],\n",
        "     [2,-1,5,0,1,0],\n",
        "     [4,1,1,0,0,1]\n",
        "]\n",
        "b = [2,6,6]"
      ],
      "metadata": {
        "id": "oCZvDUHBUDYf"
      },
      "execution_count": null,
      "outputs": []
    },
    {
      "cell_type": "code",
      "source": [
        "simplex(A,b,c,no_of_variables=6,print_iterations=True)"
      ],
      "metadata": {
        "colab": {
          "base_uri": "https://localhost:8080/"
        },
        "id": "z5QhNDasmAKU",
        "outputId": "6f4655c4-cfb2-4587-f318-1f79e401a65f"
      },
      "execution_count": null,
      "outputs": [
        {
          "output_type": "stream",
          "name": "stdout",
          "text": [
            "Iteration 1\n",
            "[[ 2.  1. -1.  1.  0.  0.  2.]\n",
            " [ 2. -1.  5.  0.  1.  0.  6.]\n",
            " [ 4.  1.  1.  0.  0.  1.  6.]\n",
            " [-1. -2. -1.  0.  0.  0.  0.]] \n",
            "\n",
            "Iteration 2\n",
            "[[ 2.  1. -1.  1.  0.  0.  2.]\n",
            " [ 4.  0.  4.  1.  1.  0.  8.]\n",
            " [ 2.  0.  2. -1.  0.  1.  4.]\n",
            " [ 3.  0. -3.  2.  0.  0.  4.]] \n",
            "\n",
            "Iteration 3\n",
            "[[ 3.    1.    0.    1.25  0.25  0.    4.  ]\n",
            " [ 1.    0.    1.    0.25  0.25  0.    2.  ]\n",
            " [ 0.    0.    0.   -1.5  -0.5   1.    0.  ]\n",
            " [ 6.    0.    0.    2.75  0.75  0.   10.  ]] \n",
            "\n",
            "The optimal solution is [0. 4. 2. 0. 0. 0.]\n",
            "The optimal value is -10.0\n"
          ]
        }
      ]
    },
    {
      "cell_type": "markdown",
      "source": [
        "# Primal LPP 1"
      ],
      "metadata": {
        "id": "DdRH7ptLcZJk"
      }
    },
    {
      "cell_type": "code",
      "source": [
        "A1 = np.c_[np.eye(10),np.eye(10),np.zeros((10,4))]\n",
        "\n",
        "A2 = np.array([[0,1,-1,1,0,0,-1,0,0,0],\n",
        "               [1,0,1,-1,-1,1,0,0,0,0],\n",
        "               [0,0,0,0,0,-1,1,1,0,-1],\n",
        "               [0,0,0,0,1,0,0,-1,-1,0]])\n",
        "\n",
        "A2 = np.c_[A2,np.zeros((4,10)),np.eye(4)]\n",
        "\n",
        "A = np.r_[A1,A2]\n",
        "\n",
        "b = np.array([13,16,10,4,14,9,12,7,7,20,0,0,0,0])\n",
        "\n",
        "bigM = 1000000.\n",
        "c = np.r_[[-1,-1],np.zeros(18),[bigM]*4]\n",
        "\n",
        "a1=list(map(int,list(bin(13)[2:])))\n",
        "c1=list(map(int,list(bin(7)[2:])))"
      ],
      "metadata": {
        "id": "CAZfGIRPmQ8l"
      },
      "execution_count": null,
      "outputs": []
    },
    {
      "cell_type": "code",
      "source": [
        "simplex(A.tolist(),b.tolist(),c.tolist(),10,max = True)"
      ],
      "metadata": {
        "colab": {
          "base_uri": "https://localhost:8080/"
        },
        "id": "2vBWRZ3RY0lH",
        "outputId": "ffe01cea-7a1c-4236-8f75-a2e5b24ed7c2"
      },
      "execution_count": null,
      "outputs": [
        {
          "output_type": "stream",
          "name": "stdout",
          "text": [
            "The optimal solution is [13. 13.  1.  0. 14.  0. 12.  7.  7. 19.]\n",
            "The optimal value is 26.0\n"
          ]
        }
      ]
    },
    {
      "cell_type": "markdown",
      "source": [
        "# Primal LPP 2"
      ],
      "metadata": {
        "id": "3-fO9ql2ccQt"
      }
    },
    {
      "cell_type": "code",
      "source": [
        "A1 = np.c_[np.eye(31), np.eye(31), np.zeros((31,10))]\n",
        "\n",
        "A2 = np.array([\n",
        "          [1,0,0,-1,-1,1,0,0,0,0,0,0,0,0,0,0,0,1,0,0,0,0,0,0,0,0,0,0,0,0,0],\n",
        "          [0,1,0,0,0,-1,0,-1,0,0,0,0,0,0,0,0,0,0,0,0,0,0,0,0,0,0,0,0,0,0,0],\n",
        "          [0,0,1,0,0,0,0,1,-1,-1,-1,1,0,0,0,0,0,0,0,0,0,0,0,0,0,0,0,0,0,0,0],\n",
        "          [0,0,0,0,0,0,0,0,1,0,0,-1,-1,-1,1,0,0,0,1,0,0,0,0,0,0,0,0,0,0,0,0],\n",
        "          [0,0,0,1,0,0,0,0,0,0,0,0,0,0,-1,0,-1,0,0,0,0,0,0,0,0,0,0,0,0,0,0],\n",
        "          [0,0,0,0,1,0,0,0,0,0,0,0,0,0,0,0,0,-1,-1,-1,0,0,0,0,0,0,0,0,0,0,0],\n",
        "          [0,0,0,0,0,0,0,0,0,1,0,0,1,0,0,0,0,0,0,0,-1,-1,-1,-1,1,0,0,0,0,0,0],\n",
        "          [0,0,0,0,0,0,0,0,0,0,1,0,0,0,0,0,0,0,0,0,1,0,1,0,-1,-1,-1,0,0,1,0],\n",
        "          [0,0,0,0,0,0,0,0,0,0,0,0,0,0,0,0,1,0,0,0,0,1,0,0,0,0,0,-1,-1,0,0],\n",
        "          [0,0,0,0,0,0,0,0,0,0,0,0,0,0,0,0,0,0,0,0,0,0,1,0,0,1,0,0,0,-1,-1]\n",
        "])\n",
        "\n",
        "A2 = np.c_[A2, np.zeros((10,31)), np.eye(10)]\n",
        "\n",
        "A = np.r_[A1,A2]\n",
        "\n",
        "b = np.array([11,15,10,18,4,3,8,5,6,3,11,4,17,6,3,16,13,12,4,21,4,9,4,3,4,5,4,7,9,2,15])\n",
        "b = np.r_[b, np.zeros(10)]\n",
        "\n",
        "bigM = 10000\n",
        "c = -np.r_[[1,1,1], np.zeros(59), [-bigM]*10]\n",
        "\n",
        "a2=list(map(int,list(bin(165)[2:])))\n",
        "b2=[0]*8"
      ],
      "metadata": {
        "id": "eSs6BBePY2hq"
      },
      "execution_count": null,
      "outputs": []
    },
    {
      "cell_type": "code",
      "source": [
        "simplex(A.tolist(),b.tolist(),c.tolist(),31,max = True)"
      ],
      "metadata": {
        "colab": {
          "base_uri": "https://localhost:8080/"
        },
        "id": "gN6sBXSK-vQY",
        "outputId": "1ff0d720-8c83-478e-f0ff-8e30fdf1400f"
      },
      "execution_count": null,
      "outputs": [
        {
          "output_type": "stream",
          "name": "stdout",
          "text": [
            "The optimal solution is [11.  8. 10. 10.  4.  3.  8.  5.  6.  3.  6.  0.  0.  6.  0. 16. 10.  0.\n",
            "  0.  4.  0.  2.  0.  3.  2.  0.  4.  7.  5.  0.  0.]\n",
            "The optimal value is 29.0\n"
          ]
        }
      ]
    },
    {
      "cell_type": "code",
      "source": [
        "x1=np.array(a1+[0]*6+c1+[0],dtype=float)\n",
        "x2 = np.array(a2+b2*3+[1]+b2,dtype=float)"
      ],
      "metadata": {
        "id": "QHIb_6Jozz21"
      },
      "execution_count": null,
      "outputs": []
    },
    {
      "cell_type": "markdown",
      "source": [
        "# Dual LPP 1"
      ],
      "metadata": {
        "id": "SD_3QKG0s4mG"
      }
    },
    {
      "cell_type": "code",
      "source": [
        "A4 = np.zeros((10,10))\n",
        "for i in range(10):\n",
        "  A4[i][i] = -1.0\n",
        "\n",
        "A3 = np.array([[0,1,0,0,1,0,0,0,0,0,0,0,0,0],\n",
        "               [1,0,0,0,0,1,0,0,0,0,0,0,0,0],\n",
        "               [-1,1,0,0,0,0,1,0,0,0,0,0,0,0],\n",
        "               [1,-1,0,0,0,0,0,1,0,0,0,0,0,0],\n",
        "               [0,-1,0,1,0,0,0,0,1,0,0,0,0,0],\n",
        "               [0,1,-1,0,0,0,0,0,0,1,0,0,0,0],\n",
        "               [-1,0,1,0,0,0,0,0,0,0,1,0,0,0],\n",
        "               [0,0,1,-1,0,0,0,0,0,0,0,1,0,0],\n",
        "               [0,0,0,-1,0,0,0,0,0,0,0,0,1,0],\n",
        "               [0,0,-1,0,0,0,0,0,0,0,0,0,0,1]])\n",
        "\n",
        "A = np.c_[A3,A4,np.eye(10)]\n",
        "b = np.array([1,1,0,0,0,0,0,0,0,0])\n",
        "c = np.r_[np.zeros(4),[13,16,10,4,14,9,12,7,7,20],np.zeros(10),[bigM]*10]"
      ],
      "metadata": {
        "id": "AoH2Iknr-V93"
      },
      "execution_count": null,
      "outputs": []
    },
    {
      "cell_type": "code",
      "source": [
        "simplex(A.tolist(),b.tolist(),c.tolist(),14,x1)"
      ],
      "metadata": {
        "colab": {
          "base_uri": "https://localhost:8080/"
        },
        "id": "et8tlkn_tPGp",
        "outputId": "b0f061fd-ff09-4bff-b3e1-993e07601967"
      },
      "execution_count": null,
      "outputs": [
        {
          "output_type": "stream",
          "name": "stdout",
          "text": [
            "The optimal solution is [1. 1. 0. 1. 0. 0. 0. 0. 0. 0. 1. 1. 1. 0.]\n",
            "The optimal value is 26.0\n"
          ]
        }
      ]
    },
    {
      "cell_type": "markdown",
      "source": [
        "# Dual LPP 2"
      ],
      "metadata": {
        "id": "0IyZb_Gs131_"
      }
    },
    {
      "cell_type": "code",
      "source": [
        "A1 = np.eye(31)\n",
        "A1p = np.array([\n",
        "                [0,1,0,0,0,0,0,0,0,0,0],\n",
        "                [0,0,1,0,0,0,0,0,0,0,0],\n",
        "                [0,0,0,1,0,0,0,0,0,0,0],\n",
        "                [0,-1,0,0,0,1,0,0,0,0,0],\n",
        "                [0,-1,0,0,0,0,1,0,0,0,0],\n",
        "                [0,1,-1,0,0,0,0,0,0,0,0],\n",
        "                [0,0,0,0,0,0,0,0,0,0,0],\n",
        "                [0,0,-1,1,0,0,0,0,0,0,0],\n",
        "                [0,0,0,-1,1,0,0,0,0,0,0],\n",
        "                [0,0,0,-1,0,0,0,1,0,0,0],\n",
        "                [0,0,0,-1,0,0,0,0,1,0,0],\n",
        "                [0,0,0,1,-1,0,0,0,0,0,0],\n",
        "                [0,0,0,0,-1,0,0,1,0,0,0],\n",
        "                [0,0,0,0,-1,0,0,0,0,0,0],\n",
        "                [0,0,0,0,1,-1,0,0,0,0,0],\n",
        "                [0,0,0,0,0,0,0,0,0,0,0],\n",
        "                [0,0,0,0,0,-1,0,0,0,1,0],\n",
        "                [0,1,0,0,0,0,-1,0,0,0,0],\n",
        "                [0,0,0,0,1,0,-1,0,0,0,0],\n",
        "                [0,0,0,0,0,0,-1,0,0,0,0],\n",
        "                [0,0,0,0,0,0,0,-1,1,0,0],\n",
        "                [0,0,0,0,0,0,0,-1,0,1,0],\n",
        "                [0,0,0,0,0,0,0,-1,1,0,1],\n",
        "                [0,0,0,0,0,0,0,-1,0,0,0],\n",
        "                [0,0,0,0,0,0,0,1,-1,0,0],\n",
        "                [0,0,0,0,0,0,0,0,-1,0,1],\n",
        "                [0,0,0,0,0,0,0,0,-1,0,0],\n",
        "                [0,0,0,0,0,0,0,0,0,-1,0],\n",
        "                [0,0,0,0,0,0,0,0,0,-1,0],\n",
        "                [0,0,0,0,0,0,0,0,1,0,-1],\n",
        "                [0,0,0,0,0,0,0,0,0,0,-1]\n",
        "\n",
        "])\n",
        "A1p = A1p[:, 1:]\n",
        "\n",
        "A1q = np.array([\n",
        "                [0,-1,0,0,0,0,0,0,0,0,0],\n",
        "                [0,0,-1,0,0,0,0,0,0,0,0],\n",
        "                [0,0,0,-1,0,0,0,0,0,0,0],\n",
        "                [0,1,0,0,0,-1,0,0,0,0,0],\n",
        "                [0,1,0,0,0,0,-1,0,0,0,0],\n",
        "                [0,1,-1,0,0,0,0,0,0,0,0],\n",
        "                [0,0,0,0,0,0,0,0,0,0,0],\n",
        "                [0,0,1,-1,0,0,0,0,0,0,0],\n",
        "                [0,0,0,1,-1,0,0,0,0,0,0],\n",
        "                [0,0,0,1,0,0,0,-1,0,0,0],\n",
        "                [0,0,0,1,0,0,0,0,-1,0,0],\n",
        "                [0,0,0,-1,1,0,0,0,0,0,0],\n",
        "                [0,0,0,0,1,0,0,-1,0,0,0],\n",
        "                [0,0,0,0,1,0,0,0,0,0,0],\n",
        "                [0,0,0,0,-1,1,0,0,0,0,0],\n",
        "                [0,0,0,0,0,0,0,0,0,0,0],\n",
        "                [0,0,0,0,0,1,0,0,0,-1,0],\n",
        "                [0,-1,0,0,0,0,1,0,0,0,0],\n",
        "                [0,0,0,0,-1,0,1,0,0,0,0],\n",
        "                [0,0,0,0,0,0,1,0,0,0,0],\n",
        "                [0,0,0,0,0,0,0,1,-1,0,0],\n",
        "                [0,0,0,0,0,0,0,1,0,-1,0],\n",
        "                [0,0,0,0,0,0,0,1,-1,0,-1],\n",
        "                [0,0,0,0,0,0,0,1,0,0,0],\n",
        "                [0,0,0,0,0,0,0,-1,1,0,0],\n",
        "                [0,0,0,0,0,0,0,0,1,0,-1],\n",
        "                [0,0,0,0,0,0,0,0,1,0,0],\n",
        "                [0,0,0,0,0,0,0,0,0,1,0],\n",
        "                [0,0,0,0,0,0,0,0,0,1,0],\n",
        "                [0,0,0,0,0,0,0,0,-1,0,1],\n",
        "                [0,0,0,0,0,0,0,0,0,0,1],\n",
        "])\n",
        "A1q = A1q[:, 1:]\n",
        "\n",
        "A1 = np.c_[A1, A1p, A1q]\n",
        "A2 = np.c_[-np.eye(31), np.eye(31)]\n",
        "A = -np.c_[A1, A2]\n",
        "\n",
        "b = np.r_[[1,1,1], np.zeros(28)]\n",
        "c = np.array([11,15,10,18,4,3,8,5,6,3,11,4,17,6,3,16,13,12,4,21,4,9,4,3,4,5,4,7,9,2,15])\n",
        "\n",
        "bigM = 10000\n",
        "c = np.r_[c, np.zeros(51), [bigM]*31]"
      ],
      "metadata": {
        "id": "vS-gnKxFtSTC"
      },
      "execution_count": null,
      "outputs": []
    },
    {
      "cell_type": "code",
      "source": [
        "simplex(A.tolist(),b.tolist(),c.tolist(),41,x2)"
      ],
      "metadata": {
        "colab": {
          "base_uri": "https://localhost:8080/"
        },
        "id": "2nRDoWW9u_bx",
        "outputId": "656c2ea9-35cf-4e9a-a5f2-c6130d0b3ef7"
      },
      "execution_count": null,
      "outputs": [
        {
          "output_type": "stream",
          "name": "stdout",
          "text": [
            "The optimal solution is [1. 0. 1. 0. 0. 1. 0. 1. 0. 0. 0. 0. 0. 0. 0. 0. 0. 0. 0. 0. 0. 0. 0. 0.\n",
            " 0. 0. 0. 0. 0. 0. 0. 0. 1. 0. 0. 0. 0. 0. 0. 0. 0.]\n",
            "The optimal value is 29.0\n"
          ]
        }
      ]
    },
    {
      "cell_type": "code",
      "source": [
        ""
      ],
      "metadata": {
        "id": "tz82AoRJ3xDi"
      },
      "execution_count": null,
      "outputs": []
    }
  ]
}